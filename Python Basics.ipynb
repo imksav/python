{
 "cells": [
  {
   "cell_type": "code",
   "execution_count": 1,
   "id": "b8fd9a11",
   "metadata": {},
   "outputs": [
    {
     "name": "stdout",
     "output_type": "stream",
     "text": [
      "Hello Python!\n"
     ]
    }
   ],
   "source": [
    "print('Hello Python!')"
   ]
  },
  {
   "cell_type": "code",
   "execution_count": 2,
   "id": "2fd3c7eb",
   "metadata": {},
   "outputs": [
    {
     "name": "stdout",
     "output_type": "stream",
     "text": [
      "Keshav\n",
      "<class 'str'>\n",
      "14\n",
      "<class 'int'>\n",
      "4.5\n",
      "<class 'float'>\n"
     ]
    }
   ],
   "source": [
    "name = 'Keshav'\n",
    "print(name)\n",
    "print(type(name))\n",
    "age = 14\n",
    "print(age)\n",
    "print(type(age))\n",
    "rating = 4.5\n",
    "print(rating)\n",
    "print(type(rating))"
   ]
  },
  {
   "cell_type": "code",
   "execution_count": 5,
   "id": "398b24ec",
   "metadata": {},
   "outputs": [
    {
     "name": "stdout",
     "output_type": "stream",
     "text": [
      "0.125\n",
      "12.5625\n",
      "\n",
      "<class 'str'>\n"
     ]
    }
   ],
   "source": [
    "tax = 12.5/100\n",
    "print(tax)\n",
    "price = 100.50\n",
    "print(price*tax)\n",
    "print(_)\n",
    "print(type(_))\n"
   ]
  },
  {
   "cell_type": "code",
   "execution_count": 6,
   "id": "4d77c7b1",
   "metadata": {},
   "outputs": [
    {
     "name": "stdout",
     "output_type": "stream",
     "text": [
      "C:\\some\n",
      "ame\n",
      "C:\\some\\name\n",
      "Usage: thingy [OPTIONS]\n",
      "     -h                        Display this usage message\n",
      "     -H hostname               Hostname to connect to\n",
      "\n"
     ]
    }
   ],
   "source": [
    "print('C:\\some\\name')  # here \\n means newline!\n",
    "print(r'C:\\some\\name')  # note the r before the quote\n",
    "print(\"\"\"\\\n",
    "Usage: thingy [OPTIONS]\n",
    "     -h                        Display this usage message\n",
    "     -H hostname               Hostname to connect to\n",
    "\"\"\")"
   ]
  },
  {
   "cell_type": "code",
   "execution_count": 7,
   "id": "84eb033f",
   "metadata": {},
   "outputs": [
    {
     "name": "stdout",
     "output_type": "stream",
     "text": [
      "K\n",
      "v\n",
      "sha\n",
      "-----\n",
      "av\n",
      "K\n",
      "-----\n",
      "Keshav\n",
      "Jeshav\n",
      "Kepy\n",
      "-----\n",
      "34\n"
     ]
    }
   ],
   "source": [
    "word = 'Keshav'\n",
    "print(word[0])\n",
    "print(word[-1])\n",
    "print(word[2:5])\n",
    "print(\"-\"*5)\n",
    "print(word[-2:])\n",
    "print(word[:-5])\n",
    "print(\"-\"*5)\n",
    "print(word[:2]+word[2:])\n",
    "print('J' + word[1:])\n",
    "print(word[:2] + 'py')\n",
    "print(\"-\"*5)\n",
    "s = 'supercalifragilisticexpialidocious'\n",
    "print(len(s))"
   ]
  },
  {
   "cell_type": "code",
   "execution_count": 55,
   "id": "7d1bf6c4",
   "metadata": {},
   "outputs": [
    {
     "name": "stdout",
     "output_type": "stream",
     "text": [
      "False\n",
      "True\n",
      "  hello world!  \n",
      "  HELLO WORLD!  \n",
      "Hello World!\n",
      "  Hi World!  \n",
      "['Hello', 'World!']\n"
     ]
    }
   ],
   "source": [
    "text = 'I love you'\n",
    "print('Love' in text)\n",
    "print('you' in text)\n",
    "\n",
    "text = \"  Hello World!  \"\n",
    "\n",
    "print(text.lower())    # hello world!\n",
    "print(text.upper())    # HELLO WORLD!\n",
    "print(text.strip())    # \"Hello World!\" (removes spaces)\n",
    "print(text.replace(\"Hello\", \"Hi\"))  # Hi World!\n",
    "print(text.split())    # ['Hello', 'World!']"
   ]
  },
  {
   "cell_type": "code",
   "execution_count": 56,
   "id": "d18b5f7c",
   "metadata": {},
   "outputs": [
    {
     "name": "stdout",
     "output_type": "stream",
     "text": [
      "My name is Alice and I am 25 years old.\n",
      "My name is Alice and I am 25 years old.\n"
     ]
    }
   ],
   "source": [
    "name = \"Alice\"\n",
    "age = 25\n",
    "\n",
    "print(\"My name is {} and I am {} years old.\".format(name, age))\n",
    "print(f\"My name is {name} and I am {age} years old.\")  # f-string"
   ]
  },
  {
   "cell_type": "code",
   "execution_count": 8,
   "id": "761a6456",
   "metadata": {},
   "outputs": [
    {
     "name": "stdout",
     "output_type": "stream",
     "text": [
      "Enter a number:5\n",
      "Odd\n"
     ]
    }
   ],
   "source": [
    "num = int(input('Enter a number:'))\n",
    "if num%2==0:\n",
    "    print('Even')\n",
    "else:\n",
    "    print('Odd')"
   ]
  },
  {
   "cell_type": "code",
   "execution_count": 9,
   "id": "b04ed2ca",
   "metadata": {},
   "outputs": [
    {
     "name": "stdout",
     "output_type": "stream",
     "text": [
      "Enter a number: 6\n",
      "Factorial of 6 is 720\n"
     ]
    }
   ],
   "source": [
    "def factorial(n):\n",
    "    if n==0 or n==1:\n",
    "        return 1\n",
    "    else:\n",
    "        return n* factorial(n-1)\n",
    "    \n",
    "num = int(input('Enter a number: '))\n",
    "print(f\"Factorial of {num} is {factorial(num)}\")"
   ]
  },
  {
   "cell_type": "code",
   "execution_count": 10,
   "id": "ce3e6e58",
   "metadata": {},
   "outputs": [
    {
     "name": "stdout",
     "output_type": "stream",
     "text": [
      "Enter a number: 10\n",
      "Fibonacci(10) = 89\n"
     ]
    }
   ],
   "source": [
    "def fibonacci(n):\n",
    "    if n <= 0:\n",
    "        return 1\n",
    "    elif n<=1:\n",
    "        return 1\n",
    "    else:\n",
    "        return (fibonacci(n - 1) + fibonacci(n - 2))\n",
    "\n",
    "num = int(input('Enter a number: '))\n",
    "print(f\"Fibonacci({num}) = {fibonacci(num)}\")"
   ]
  },
  {
   "cell_type": "code",
   "execution_count": 11,
   "id": "58b80e2a",
   "metadata": {},
   "outputs": [
    {
     "name": "stdout",
     "output_type": "stream",
     "text": [
      "Enter a year: 2036\n",
      "Leap Year\n"
     ]
    }
   ],
   "source": [
    "year = int(input('Enter a year: '))\n",
    "if(year % 4 == 0 and year % 100 != 0) or (year % 400 == 0):\n",
    "    print('Leap Year')\n",
    "else:\n",
    "    print('Not a Leap Year')"
   ]
  },
  {
   "cell_type": "code",
   "execution_count": 26,
   "id": "a0c9c330",
   "metadata": {},
   "outputs": [
    {
     "name": "stdout",
     "output_type": "stream",
     "text": [
      "Enter a word: Madam\n",
      "Palindrome\n"
     ]
    }
   ],
   "source": [
    "word = input('Enter a word: ')\n",
    "temp = ''\n",
    "count = len(word) - 1  # Start from the last index\n",
    "\n",
    "while count >= 0:\n",
    "    temp += word[count]  # Add characters in reverse order\n",
    "    count -= 1\n",
    "\n",
    "if temp.upper() == word.upper():\n",
    "    print('Palindrome')\n",
    "else:\n",
    "    print('Not a Palindrome')\n"
   ]
  },
  {
   "cell_type": "code",
   "execution_count": 28,
   "id": "ac741023",
   "metadata": {},
   "outputs": [
    {
     "name": "stdout",
     "output_type": "stream",
     "text": [
      "Enter a word: hello\n",
      "Not a Palindrome\n"
     ]
    }
   ],
   "source": [
    "word = input('Enter a word: ')\n",
    "if word.upper() == word[::-1].upper():  # Reverse the string using slicing\n",
    "    print('Palindrome')\n",
    "else:\n",
    "    print('Not a Palindrome')"
   ]
  },
  {
   "cell_type": "code",
   "execution_count": 32,
   "id": "1b4a2643",
   "metadata": {},
   "outputs": [
    {
     "name": "stdout",
     "output_type": "stream",
     "text": [
      "Enter your password: helloworld\n",
      "Strong\n"
     ]
    }
   ],
   "source": [
    "password = input('Enter your password: ')\n",
    "if len(password)<6:\n",
    "    print('Weak')\n",
    "elif len(password)<10:\n",
    "    print('Medium')\n",
    "else:\n",
    "    print('Strong')"
   ]
  },
  {
   "cell_type": "code",
   "execution_count": 35,
   "id": "a8b7cf10",
   "metadata": {},
   "outputs": [
    {
     "name": "stdout",
     "output_type": "stream",
     "text": [
      "2 is Even\n",
      "4 is Even\n",
      "6 is Even\n",
      "8 is Even\n",
      "10 is Even\n",
      "12 is Even\n",
      "14 is Even\n",
      "16 is Even\n",
      "18 is Even\n",
      "20 is Even\n",
      "22 is Even\n",
      "24 is Even\n",
      "26 is Even\n",
      "28 is Even\n",
      "30 is Even\n",
      "32 is Even\n",
      "34 is Even\n",
      "36 is Even\n",
      "38 is Even\n",
      "40 is Even\n",
      "42 is Even\n",
      "44 is Even\n",
      "46 is Even\n",
      "48 is Even\n",
      "50 is Even\n",
      "52 is Even\n",
      "54 is Even\n",
      "56 is Even\n",
      "58 is Even\n",
      "60 is Even\n",
      "62 is Even\n",
      "64 is Even\n",
      "66 is Even\n",
      "68 is Even\n",
      "70 is Even\n",
      "72 is Even\n",
      "74 is Even\n",
      "76 is Even\n",
      "78 is Even\n",
      "80 is Even\n",
      "82 is Even\n",
      "84 is Even\n",
      "86 is Even\n",
      "88 is Even\n",
      "90 is Even\n",
      "92 is Even\n",
      "94 is Even\n",
      "96 is Even\n",
      "98 is Even\n"
     ]
    }
   ],
   "source": [
    "for i in range(1,100):\n",
    "    if i % 2 == 0:\n",
    "        print(f'{i} is Even')"
   ]
  },
  {
   "cell_type": "code",
   "execution_count": 38,
   "id": "73239c98",
   "metadata": {},
   "outputs": [
    {
     "name": "stdout",
     "output_type": "stream",
     "text": [
      "Count Down 10\n",
      "Count Down 9\n",
      "Count Down 8\n",
      "Count Down 7\n",
      "Count Down 6\n",
      "Count Down 5\n",
      "Count Down 4\n",
      "Count Down 3\n",
      "Count Down 2\n",
      "Count Down 1\n"
     ]
    }
   ],
   "source": [
    "count = 10\n",
    "while count >= 1:\n",
    "    print(f'Count Down {count}')\n",
    "    count -= 1"
   ]
  },
  {
   "cell_type": "code",
   "execution_count": 41,
   "id": "2eefc933",
   "metadata": {},
   "outputs": [
    {
     "name": "stdout",
     "output_type": "stream",
     "text": [
      "4950\n"
     ]
    }
   ],
   "source": [
    "sum = 0\n",
    "for i in range(1,100):\n",
    "    sum += i\n",
    "print(sum)"
   ]
  },
  {
   "cell_type": "code",
   "execution_count": 44,
   "id": "58251e74",
   "metadata": {},
   "outputs": [
    {
     "name": "stdout",
     "output_type": "stream",
     "text": [
      "Enter a number: 8\n",
      "Factorial is 40320\n"
     ]
    }
   ],
   "source": [
    "num = int(input('Enter a number: '))\n",
    "factorial = 1\n",
    "for i in range(1, num+1):\n",
    "    factorial *= i\n",
    "print(f'Factorial is {factorial}')"
   ]
  },
  {
   "cell_type": "code",
   "execution_count": 47,
   "id": "fce1077a",
   "metadata": {},
   "outputs": [
    {
     "name": "stdout",
     "output_type": "stream",
     "text": [
      "Enter a number of series: 10\n",
      "0\n",
      "1\n",
      "1\n",
      "2\n",
      "3\n",
      "5\n",
      "8\n",
      "13\n",
      "21\n",
      "34\n"
     ]
    }
   ],
   "source": [
    "n = int(input('Enter a number of series: '))\n",
    "a, b = 0, 1\n",
    "for _ in range(n):\n",
    "    print(a)\n",
    "    a, b = b, a + b"
   ]
  },
  {
   "cell_type": "code",
   "execution_count": null,
   "id": "f83a2b35",
   "metadata": {},
   "outputs": [],
   "source": []
  }
 ],
 "metadata": {
  "kernelspec": {
   "display_name": "Python 3 (ipykernel)",
   "language": "python",
   "name": "python3"
  },
  "language_info": {
   "codemirror_mode": {
    "name": "ipython",
    "version": 3
   },
   "file_extension": ".py",
   "mimetype": "text/x-python",
   "name": "python",
   "nbconvert_exporter": "python",
   "pygments_lexer": "ipython3",
   "version": "3.11.7"
  }
 },
 "nbformat": 4,
 "nbformat_minor": 5
}
