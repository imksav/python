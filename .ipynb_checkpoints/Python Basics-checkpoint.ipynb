{
 "cells": [
  {
   "cell_type": "code",
   "execution_count": 5,
   "id": "b8fd9a11",
   "metadata": {},
   "outputs": [
    {
     "name": "stdout",
     "output_type": "stream",
     "text": [
      "Hello Python!\n"
     ]
    }
   ],
   "source": [
    "print('Hello Python!')"
   ]
  },
  {
   "cell_type": "code",
   "execution_count": 11,
   "id": "2fd3c7eb",
   "metadata": {},
   "outputs": [
    {
     "name": "stdout",
     "output_type": "stream",
     "text": [
      "Keshav\n",
      "<class 'str'>\n",
      "14\n",
      "<class 'int'>\n",
      "4.5\n",
      "<class 'float'>\n"
     ]
    }
   ],
   "source": [
    "name = 'Keshav'\n",
    "print(name)\n",
    "print(type(name))\n",
    "age = 14\n",
    "print(age)\n",
    "print(type(age))\n",
    "rating = 4.5\n",
    "print(rating)\n",
    "print(type(rating))"
   ]
  },
  {
   "cell_type": "code",
   "execution_count": 32,
   "id": "398b24ec",
   "metadata": {},
   "outputs": [
    {
     "name": "stdout",
     "output_type": "stream",
     "text": [
      "0.125\n",
      "12.5625\n",
      "0.125\n",
      "<class 'float'>\n",
      "100.625\n",
      "0.12\n"
     ]
    }
   ],
   "source": [
    "tax = 12.5/100\n",
    "print(tax)\n",
    "price = 100.50\n",
    "print(price*tax)\n",
    "print(_)\n",
    "print(type(_))\n",
    "print(price+_)\n",
    "print(round(_,2))"
   ]
  },
  {
   "cell_type": "code",
   "execution_count": 36,
   "id": "4d77c7b1",
   "metadata": {},
   "outputs": [
    {
     "name": "stdout",
     "output_type": "stream",
     "text": [
      "C:\\some\n",
      "ame\n",
      "C:\\some\\name\n",
      "Usage: thingy [OPTIONS]\n",
      "     -h                        Display this usage message\n",
      "     -H hostname               Hostname to connect to\n",
      "\n"
     ]
    }
   ],
   "source": [
    "print('C:\\some\\name')  # here \\n means newline!\n",
    "print(r'C:\\some\\name')  # note the r before the quote\n",
    "print(\"\"\"\\\n",
    "Usage: thingy [OPTIONS]\n",
    "     -h                        Display this usage message\n",
    "     -H hostname               Hostname to connect to\n",
    "\"\"\")"
   ]
  },
  {
   "cell_type": "code",
   "execution_count": 53,
   "id": "84eb033f",
   "metadata": {},
   "outputs": [
    {
     "name": "stdout",
     "output_type": "stream",
     "text": [
      "K\n",
      "v\n",
      "sha\n",
      "-----\n",
      "av\n",
      "K\n",
      "-----\n",
      "Keshav\n",
      "Jeshav\n",
      "Kepy\n",
      "-----\n",
      "34\n"
     ]
    }
   ],
   "source": [
    "word = 'Keshav'\n",
    "print(word[0])\n",
    "print(word[-1])\n",
    "print(word[2:5])\n",
    "print(\"-\"*5)\n",
    "print(word[-2:])\n",
    "print(word[:-5])\n",
    "print(\"-\"*5)\n",
    "print(word[:2]+word[2:])\n",
    "print('J' + word[1:])\n",
    "print(word[:2] + 'py')\n",
    "print(\"-\"*5)\n",
    "s = 'supercalifragilisticexpialidocious'\n",
    "print(len(s))"
   ]
  },
  {
   "cell_type": "code",
   "execution_count": 60,
   "id": "761a6456",
   "metadata": {},
   "outputs": [
    {
     "name": "stdout",
     "output_type": "stream",
     "text": [
      "Enter a number:8\n",
      "Even\n"
     ]
    }
   ],
   "source": [
    "num = int(input('Enter a number:'))\n",
    "if num%2==0:\n",
    "    print('Even')\n",
    "else:\n",
    "    print('Odd')"
   ]
  },
  {
   "cell_type": "code",
   "execution_count": 67,
   "id": "b04ed2ca",
   "metadata": {},
   "outputs": [
    {
     "name": "stdout",
     "output_type": "stream",
     "text": [
      "Enter a number: 11\n",
      "Factorial of 11 is 39916800\n"
     ]
    }
   ],
   "source": [
    "def factorial(n):\n",
    "    if n==0 or n==1:\n",
    "        return 1\n",
    "    else:\n",
    "        return n* factorial(n-1)\n",
    "    \n",
    "num = int(input('Enter a number: '))\n",
    "print(f\"Factorial of {num} is {factorial(num)}\")"
   ]
  },
  {
   "cell_type": "code",
   "execution_count": 80,
   "id": "ce3e6e58",
   "metadata": {},
   "outputs": [
    {
     "name": "stdout",
     "output_type": "stream",
     "text": [
      "Enter a number: 5\n",
      "Fibonacci(5) = 8\n"
     ]
    }
   ],
   "source": [
    "def fibonacci(n):\n",
    "    if n <= 0:\n",
    "        return 1\n",
    "    elif n<=1:\n",
    "        return 1\n",
    "    else:\n",
    "        return (fibonacci(n - 1) + fibonacci(n - 2))\n",
    "\n",
    "num = int(input('Enter a number: '))\n",
    "print(f\"Fibonacci({num}) = {fibonacci(num)}\")"
   ]
  },
  {
   "cell_type": "code",
   "execution_count": 84,
   "id": "181af176",
   "metadata": {},
   "outputs": [
    {
     "name": "stdout",
     "output_type": "stream",
     "text": [
      "Enter a year: 2032\n",
      "Leap Year\n"
     ]
    }
   ],
   "source": [
    "year = int(input('Enter a year: '))\n",
    "if(year % 4 == 0 and year % 100 != 0) or (year % 400 == 0):\n",
    "    print('Leap Year')\n",
    "else:\n",
    "    print('Not a Leap Year')"
   ]
  },
  {
   "cell_type": "code",
   "execution_count": null,
   "id": "406097bb",
   "metadata": {},
   "outputs": [],
   "source": [
    "word = input('Enter a word: ')\n",
    "temp = ''\n",
    "count = len(word)\n",
    "while 0<=count:\n",
    "    temp += word[len(word):len(word)-1]\n",
    "    count = count-1\n",
    "return temp\n",
    "if temp == word:\n",
    "    print('Palindrome')\n",
    "else:\n",
    "    print('Not a Palindrome')\n",
    "    "
   ]
  }
 ],
 "metadata": {
  "kernelspec": {
   "display_name": "Python 3 (ipykernel)",
   "language": "python",
   "name": "python3"
  },
  "language_info": {
   "codemirror_mode": {
    "name": "ipython",
    "version": 3
   },
   "file_extension": ".py",
   "mimetype": "text/x-python",
   "name": "python",
   "nbconvert_exporter": "python",
   "pygments_lexer": "ipython3",
   "version": "3.11.7"
  }
 },
 "nbformat": 4,
 "nbformat_minor": 5
}
